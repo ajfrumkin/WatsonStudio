{
    "cells": [
        {
            "cell_type": "markdown",
            "metadata": {},
            "source": "This is a sample notebook i craeted as part of the Coursera Data Science course."
        },
        {
            "cell_type": "code",
            "execution_count": 7,
            "metadata": {},
            "outputs": [
                {
                    "name": "stdout",
                    "output_type": "stream",
                    "text": "+-----------+--------------------+--------+---------+---------+----------+----+---------------+----+---------------+----+---------------+----+---------------+----+---------------+----+---------------+\n|    STATION|                NAME|LATITUDE|LONGITUDE|ELEVATION|      DATE|PRCP|PRCP_ATTRIBUTES|SNOW|SNOW_ATTRIBUTES|SNWD|SNWD_ATTRIBUTES|TAVG|TAVG_ATTRIBUTES|TMAX|TMAX_ATTRIBUTES|TMIN|TMIN_ATTRIBUTES|\n+-----------+--------------------+--------+---------+---------+----------+----+---------------+----+---------------+----+---------------+----+---------------+----+---------------+----+---------------+\n|USW00013880|CHARLESTON INTL. ...|32.89943|-80.04075|     12.2|2021-01-01|0.01|       ,,W,2400| 0.0|       ,,W,2400| 0.0|       ,,W,2400|null|           null|  80|            ,,W|  60|            ,,W|\n|USW00013880|CHARLESTON INTL. ...|32.89943|-80.04075|     12.2|2021-01-02|0.01|       ,,W,2400| 0.0|       ,,W,2400| 0.0|       ,,W,2400|null|           null|  71|            ,,W|  65|            ,,W|\n|USW00013880|CHARLESTON INTL. ...|32.89943|-80.04075|     12.2|2021-01-03|0.22|       ,,W,2400| 0.0|       ,,W,2400| 0.0|       ,,W,2400|null|           null|  69|            ,,W|  46|            ,,W|\n|USW00013880|CHARLESTON INTL. ...|32.89943|-80.04075|     12.2|2021-01-04| 0.0|       ,,W,2400| 0.0|       ,,W,2400| 0.0|       ,,W,2400|null|           null|  63|            ,,W|  41|            ,,W|\n|USW00013880|CHARLESTON INTL. ...|32.89943|-80.04075|     12.2|2021-01-05| 0.0|       ,,W,2400| 0.0|       ,,W,2400| 0.0|       ,,W,2400|null|           null|  64|            ,,W|  40|            ,,W|\n+-----------+--------------------+--------+---------+---------+----------+----+---------------+----+---------------+----+---------------+----+---------------+----+---------------+----+---------------+\nonly showing top 5 rows\n\n"
                },
                {
                    "data": {
                        "text/plain": "configurationName = os_646f15674db34676bde3d1264f1fd807_configs\nendpoint_646f15674db34676bde3d1264f1fd807 = https://s3.private.us.cloud-object-storage.appdomain.cloud\ncos = com.ibm.ibmos2spark.CloudObjectStorage@7fbddbf0\nspark = org.apache.spark.sql.SparkSession@89ee3a52\ndfData1 = [STATION: string, NAME: string ... 16 more fields]\n"
                    },
                    "metadata": {},
                    "output_type": "display_data"
                },
                {
                    "data": {
                        "text/plain": "getCredentials: ()scala.collection.mutable.HashMap[String,String]\n"
                    },
                    "metadata": {},
                    "output_type": "display_data"
                },
                {
                    "data": {
                        "text/plain": "[STATION: string, NAME: string ... 16 more fields]"
                    },
                    "execution_count": 7,
                    "metadata": {},
                    "output_type": "execute_result"
                }
            ],
            "source": "// The code was removed by Watson Studio for sharing."
        },
        {
            "cell_type": "code",
            "execution_count": null,
            "metadata": {},
            "outputs": [],
            "source": ""
        }
    ],
    "metadata": {
        "kernelspec": {
            "display_name": "Scala 2.12 with Spark",
            "language": "scala",
            "name": "scala"
        },
        "language_info": {
            "codemirror_mode": "text/x-scala",
            "file_extension": ".scala",
            "mimetype": "text/x-scala",
            "name": "scala",
            "pygments_lexer": "scala",
            "version": "2.12.12"
        }
    },
    "nbformat": 4,
    "nbformat_minor": 1
}